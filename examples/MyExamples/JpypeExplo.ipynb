{
 "cells": [
  {
   "cell_type": "code",
   "execution_count": 1,
   "metadata": {},
   "outputs": [],
   "source": [
    "import jpype\n",
    "from neuralogic import is_initialized, initialize\n",
    "\n",
    "if not is_initialized():\n",
    "    initialize(debug_mode=True)\n",
    "\n",
    "class_reference = jpype.JClass(\"cz.cvut.fel.ida.algebra.functions.MyClass\")\n",
    "\n",
    "\n",
    "class_instance = class_reference()\n",
    "\n",
    "pozdrav = class_instance.pozdrav()\n",
    "\n",
    "print(type(class_reference))\n",
    "print(type(class_instance))\n",
    "print(type(pozdrav))\n",
    "\n",
    "print(pozdrav)\n",
    "\n"
   ]
  }
 ],
 "metadata": {
  "kernelspec": {
   "display_name": "bak",
   "language": "python",
   "name": "python3"
  },
  "language_info": {
   "codemirror_mode": {
    "name": "ipython",
    "version": 3
   },
   "file_extension": ".py",
   "mimetype": "text/x-python",
   "name": "python",
   "nbconvert_exporter": "python",
   "pygments_lexer": "ipython3",
   "version": "3.10.14"
  }
 },
 "nbformat": 4,
 "nbformat_minor": 2
}
