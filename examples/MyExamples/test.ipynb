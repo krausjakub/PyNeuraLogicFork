{
 "cells": [
  {
   "cell_type": "code",
   "execution_count": null,
   "metadata": {},
   "outputs": [],
   "source": [
    "from neuralogic.nn import get_evaluator\n",
    "from neuralogic.core import Template, R, V, C, Settings, Transformation, Combination, Aggregation\n",
    "from neuralogic.core.constructs.function.tree import FunctionContainer\n",
    "from neuralogic.core.settings import Settings\n",
    "from neuralogic.dataset import Dataset\n",
    "from neuralogic.optim import SGD\n",
    "\n",
    "F = FunctionContainer()\n",
    "train_dataset = Dataset()\n",
    "template = Template()\n",
    "\n",
    "\n",
    "train_dataset.add_example([R.b[3], R.c[5], R.d[1]])\n",
    "train_dataset.add_queries([R.a[8]])\n",
    "\n"
   ]
  },
  {
   "cell_type": "code",
   "execution_count": null,
   "metadata": {},
   "outputs": [],
   "source": [
    "template += (R.a <= (x:=R.b, y:=R.c, z:=R.d)) >> F.avg(F.identity(x + y * z))\n",
    "#F.custom(x + y * z)\n",
    "\n",
    "template.draw()"
   ]
  },
  {
   "cell_type": "code",
   "execution_count": null,
   "metadata": {},
   "outputs": [],
   "source": [
    "settings = Settings(optimizer=SGD(), epochs=1)\n",
    "neuralogic_evaluator = get_evaluator(template, settings)\n",
    "build_dataset = neuralogic_evaluator.build_dataset(train_dataset)\n",
    "\n",
    "for _ in neuralogic_evaluator.train(train_dataset):\n",
    "    pass\n",
    "\n",
    "build_dataset[0].draw()"
   ]
  }
 ],
 "metadata": {
  "kernelspec": {
   "display_name": "bak",
   "language": "python",
   "name": "python3"
  },
  "language_info": {
   "codemirror_mode": {
    "name": "ipython",
    "version": 3
   },
   "file_extension": ".py",
   "mimetype": "text/x-python",
   "name": "python",
   "nbconvert_exporter": "python",
   "pygments_lexer": "ipython3",
   "version": "3.10.14"
  }
 },
 "nbformat": 4,
 "nbformat_minor": 2
}
