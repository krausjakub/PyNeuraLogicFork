{
 "cells": [
  {
   "cell_type": "code",
   "execution_count": null,
   "metadata": {},
   "outputs": [],
   "source": [
    "from neuralogic.nn import get_evaluator\n",
    "from neuralogic.core import Template, R, V, C, Settings, Transformation, Combination, Aggregation\n",
    "from neuralogic.core.constructs.function.tree import FunctionContainer\n",
    "from neuralogic.core.settings import Settings\n",
    "from neuralogic.dataset import Dataset\n",
    "from neuralogic.optim import SGD\n",
    "\n",
    "F = FunctionContainer()\n",
    "train_dataset = Dataset()\n",
    "template = Template()"
   ]
  },
  {
   "cell_type": "code",
   "execution_count": null,
   "metadata": {},
   "outputs": [],
   "source": [
    "train_dataset.add_example([R.b[3], R.c[5]])\n",
    "train_dataset.add_queries([R.a[8]])"
   ]
  },
  {
   "cell_type": "markdown",
   "metadata": {},
   "source": [
    "Base example with square brackets"
   ]
  },
  {
   "cell_type": "code",
   "execution_count": null,
   "metadata": {},
   "outputs": [],
   "source": [
    "template = Template()\n",
    "def custom(list_java_values):\n",
    "    for val in list_java_values:\n",
    "        #val to tensor\n",
    "        #perform operation on tensor, measure\n",
    "    \n",
    "#template += (R.a <= (x:=R.b, y:= R.c)) >> F.softmax[F.softmax(F.softmax(x))]\n",
    "\n",
    "# following lines will also work\n",
    "#template += (R.a <= (x:=R.b, y:= R.c)) >> F.softmax[F.softmax(x + y)]  # trans, agg -----\n",
    "#template += (R.a <= (x:=R.b, y:= R.c)) >> F.softmax(F.softmax(x))      # comb, trans\n",
    "#template += (R.a <= (x:=R.b, y:= R.c)) >> F.softmax(x)                 # comb\n",
    "#template += (R.a <= (x:=R.b, y:= R.c)) >> F.softmax[x]                 # agg\n",
    "template += (R.a <= (x:=R.b, y:= R.c)) >> F.softmax(custom([x, y]))     # agg\n",
    "\n",
    "# problem - cant have single transformation softmax\n",
    "\n",
    "\n",
    "template.draw()"
   ]
  },
  {
   "cell_type": "markdown",
   "metadata": {},
   "source": [
    "Relational example"
   ]
  },
  {
   "cell_type": "code",
   "execution_count": null,
   "metadata": {},
   "outputs": [],
   "source": [
    "template = Template()\n",
    "#template += (R.message2(V.X)[1, 2] <= ([R.message1(V.Y)[1, 2], R.edge(V.Y, V.X)])) | [Transformation.RELU, Aggregation.AVG]\n",
    "template += (R.message2(V.X)[1, 2] <= F.avg[F.relu([R.message1(V.Y)[1, 2], R.edge(V.Y, V.X)])])\n",
    "\n",
    "template.draw()"
   ]
  },
  {
   "cell_type": "code",
   "execution_count": null,
   "metadata": {},
   "outputs": [],
   "source": [
    "a = [1, 2]\n",
    "b = list(a)\n",
    "print(b)"
   ]
  },
  {
   "cell_type": "markdown",
   "metadata": {},
   "source": [
    "Multiple Combinations at the same time"
   ]
  },
  {
   "cell_type": "code",
   "execution_count": null,
   "metadata": {},
   "outputs": [],
   "source": [
    "template = Template()\n",
    "template += (R.a <= (x:=R.b, y:= R.c, z:= R.d, q:= R.e)) >> F.avg[F.relu(x * y * z * q)]\n",
    "\n",
    "template.draw()"
   ]
  },
  {
   "cell_type": "markdown",
   "metadata": {},
   "source": [
    "All following code will throw exception."
   ]
  },
  {
   "cell_type": "code",
   "execution_count": null,
   "metadata": {},
   "outputs": [],
   "source": [
    "template = Template()\n",
    "template += (R.a <= (x:=R.b, y:= R.c, z:= R.d, q:= R.e)) >> F.avg[F.relu(x * y + z * q)]\n"
   ]
  }
 ],
 "metadata": {
  "kernelspec": {
   "display_name": "bak",
   "language": "python",
   "name": "python3"
  },
  "language_info": {
   "codemirror_mode": {
    "name": "ipython",
    "version": 3
   },
   "file_extension": ".py",
   "mimetype": "text/x-python",
   "name": "python",
   "nbconvert_exporter": "python",
   "pygments_lexer": "ipython3",
   "version": "3.10.14"
  }
 },
 "nbformat": 4,
 "nbformat_minor": 2
}
